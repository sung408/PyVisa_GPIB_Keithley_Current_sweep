{
 "cells": [
  {
   "cell_type": "code",
   "execution_count": 193,
   "metadata": {},
   "outputs": [
    {
     "data": {
      "text/plain": [
       "(6, <StatusCode.success: 0>)"
      ]
     },
     "execution_count": 193,
     "metadata": {},
     "output_type": "execute_result"
    }
   ],
   "source": [
    "import visa\n",
    "import time\n",
    "import numpy as np\n",
    "import pandas as pd\n",
    "import matplotlib.pyplot as plt\n",
    "rm=visa.ResourceManager()\n",
    "rm.list_resources()\n",
    "keithley1= rm.open_resource('GPIB0::25::INSTR')       # Keithley GPIB adress 25\n",
    "keithley1.write('*RST')\n",
    "# a=keithley1.query(\"*IDN?\")\n",
    "# print (a)"
   ]
  },
  {
   "cell_type": "markdown",
   "metadata": {},
   "source": [
    "#### Test parameter set-up"
   ]
  },
  {
   "cell_type": "code",
   "execution_count": 194,
   "metadata": {},
   "outputs": [],
   "source": [
    "start_current=0.001        #unit A\n",
    "stop_current=0.002\n",
    "step_current=0.001\n",
    "volt_prot='2'     #voltage protection level\n",
    "ontime= 2    # turn on bias before measurement  unit: sec\n",
    "\n",
    "#File to save\n",
    "fname='test'             # change file name\n",
    "directory= \"C:\\\\temp\\\\\"  # change folder name if necessary\n",
    "dataf=directory+fname+'.csv'\n",
    "# dataf"
   ]
  },
  {
   "cell_type": "markdown",
   "metadata": {},
   "source": [
    "#### Keithley current source setup"
   ]
  },
  {
   "cell_type": "code",
   "execution_count": 195,
   "metadata": {},
   "outputs": [
    {
     "data": {
      "text/plain": [
       "(18, <StatusCode.success: 0>)"
      ]
     },
     "execution_count": 195,
     "metadata": {},
     "output_type": "execute_result"
    }
   ],
   "source": [
    "keithley1.write( \":SYST:CLE\")\n",
    "keithley1.write(\"SYST:BEEP:STAT OFF\")       #   'Beeper off\n",
    "keithley1.write(\"SOUR:FUNC:MODE CURR\")\n",
    "keithley1.write(\"SENS:FUNC 'VOLT:DC'\")\n",
    "keithley1.write(\"SOUR:CURR:MODE FIXED\")\n",
    "keithley1.write(\"SOUR:CURR:AMPLITUDE 0\")\n",
    "keithley1.write(\":SENS:FUNC:CONC ON\")\n",
    "# keithley1.write(\"SENS:FUNC:ON VOLT,CURR\")\n",
    "keithley1.write(\"SENSE:VOLTAGE:DC:RANGE:AUTO OFF\")\n",
    "keithley1.write(\"SENSE:CURRENT:DC:RANGE:AUTO OFF\")\n",
    "keithley1.write(\"SOUR:DEL:AUTO OFF\")\n",
    "keithley1.write( \":SENSE:VOLT:PROT \" + volt_prot)\n",
    "keithley1.write( \":FORM:ELEM VOLT,CURR\")\n",
    "keithley1.write(\":SENSE:RES:MODE MAN\")\n",
    "keithley1.write(\":SYSTEM:RSEN OFF\")\n"
   ]
  },
  {
   "cell_type": "code",
   "execution_count": 196,
   "metadata": {
    "collapsed": true
   },
   "outputs": [],
   "source": [
    "V=[]\n",
    "I=[]\n",
    "R=[]\n",
    "\n",
    "def measureR(bias):\n",
    "    curr=str(bias)\n",
    "    keithley1.write(\":SOUR:CURR:LEV:IMM:AMPL \"+ curr )\n",
    "    keithley1.write(':OUTP ON')\n",
    "    time.sleep(ontime)\n",
    "    keithley1.write(\":READ?\")\n",
    "    vi=keithley1.read()\n",
    "    resistanceCal(vi)\n",
    "    keithley1.write(':OUTP OFF')\n",
    "\n",
    "def resistanceCal(vi):\n",
    "    volt_curr=vi.rstrip().split(',')\n",
    "    volt=float(volt_curr[0])\n",
    "    curr=float(volt_curr[1])\n",
    "    res=volt/curr\n",
    "    V.append(volt)\n",
    "    I.append(curr)\n",
    "    R.append(res)\n",
    "   "
   ]
  },
  {
   "cell_type": "code",
   "execution_count": 197,
   "metadata": {},
   "outputs": [],
   "source": [
    "for i in np.arange(start_current, stop_current+step_current, step_current):\n",
    "    measureR(i)\n",
    "    \n",
    "data=pd.DataFrame({'Volt (mV)':V,\n",
    "                   'Curr (mA)':I,\n",
    "                    'Resistance': R})\n",
    "data.to_csv(dataf)\n",
    "V.clear()\n",
    "I.clear()\n",
    "R.clear()"
   ]
  },
  {
   "cell_type": "code",
   "execution_count": 198,
   "metadata": {},
   "outputs": [
    {
     "data": {
      "image/png": "[encoded data removed]",
      "text/plain": [
       "<matplotlib.figure.Figure at 0xc84c860>"
      ]
     },
     "metadata": {},
     "output_type": "display_data"
    }
   ],
   "source": [
    "plt.plot(data['Curr (mA)']*1000, data['Resistance'])\n",
    "plt.show()"
   ]
  },
  {
   "cell_type": "code",
   "execution_count": null,
   "metadata": {
    "collapsed": true
   },
   "outputs": [],
   "source": []
  }
 ],
 "metadata": {
  "kernelspec": {
   "display_name": "Python 3",
   "language": "python",
   "name": "python3"
  },
  "language_info": {
   "codemirror_mode": {
    "name": "ipython",
    "version": 3
   },
   "file_extension": ".py",
   "mimetype": "text/x-python",
   "name": "python",
   "nbconvert_exporter": "python",
   "pygments_lexer": "ipython3",
   "version": "3.6.1"
  }
 },
 "nbformat": 4,
 "nbformat_minor": 2
}
